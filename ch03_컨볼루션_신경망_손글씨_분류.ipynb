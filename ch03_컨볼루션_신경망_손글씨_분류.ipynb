{
  "nbformat": 4,
  "nbformat_minor": 0,
  "metadata": {
    "colab": {
      "name": "ch03.컨볼루션 신경망_손글씨 분류.ipynb",
      "provenance": [],
      "collapsed_sections": [],
      "authorship_tag": "ABX9TyOkippojjlzTZoc6wbK4mvw",
      "include_colab_link": true
    },
    "kernelspec": {
      "name": "python3",
      "display_name": "Python 3"
    },
    "language_info": {
      "name": "python"
    }
  },
  "cells": [
    {
      "cell_type": "markdown",
      "metadata": {
        "id": "view-in-github",
        "colab_type": "text"
      },
      "source": [
        "<a href=\"https://colab.research.google.com/github/ilmechaJu/-Base-Line-CNN/blob/main/ch03_%EC%BB%A8%EB%B3%BC%EB%A3%A8%EC%85%98_%EC%8B%A0%EA%B2%BD%EB%A7%9D_%EC%86%90%EA%B8%80%EC%94%A8_%EB%B6%84%EB%A5%98.ipynb\" target=\"_parent\"><img src=\"https://colab.research.google.com/assets/colab-badge.svg\" alt=\"Open In Colab\"/></a>"
      ]
    },
    {
      "cell_type": "code",
      "metadata": {
        "colab": {
          "base_uri": "https://localhost:8080/"
        },
        "id": "vfIm6z014TS_",
        "outputId": "de27c941-71ed-4ae2-d438-5bea7f18970c"
      },
      "source": [
        "import numpy as np\n",
        "from tensorflow import keras\n",
        "from tensorflow.keras import layers\n",
        "\n",
        "# Model / data parameters\n",
        "num_classes = 10\n",
        "input_shape = (28, 28, 1)\n",
        "\n",
        "# the data, split between train and test sets\n",
        "# 손으로 쓴 Mnist 데이터 세트 #대형 데이터베이스 #60,000개 훈련 이미지 #10,000개 테스트이미지 있음\n",
        "# train_image : 60,000개 샘플, train_label : 60,000개 숫자, \n",
        "# test_image : 10,000개의 이미지, test_label : 10,000개 숫자.\n",
        "#원리 : train_images(이미지)와 train_label(라벨)로 모델 학습시킨 다음, \n",
        "#해당 모델에 test_images(시험 이미지)를 입력하여 추론된 라벨값을 제출 하는 것이다.\n",
        "(x_train, y_train), (x_test, y_test) = keras.datasets.mnist.load_data()\n",
        "\n",
        "# Scale images to the [0, 1] range\n",
        "x_train = x_train.astype(\"float32\") / 255\n",
        "x_test = x_test.astype(\"float32\") / 255\n",
        "# Make sure images have shape (28, 28, 1)\n",
        "x_train = np.expand_dims(x_train, -1)\n",
        "x_test = np.expand_dims(x_test, -1)\n",
        "print(\"x_train shape:\", x_train.shape)\n",
        "print(x_train.shape[0], \"train samples\")\n",
        "print(x_test.shape[0], \"test samples\")\n",
        "\n",
        "\n",
        "# convert class vectors to binary class matrices\n",
        "y_train = keras.utils.to_categorical(y_train, num_classes)\n",
        "y_test = keras.utils.to_categorical(y_test, num_classes)\n",
        "\n",
        "model = keras.Sequential(\n",
        "    [\n",
        "        keras.Input(shape=input_shape),\n",
        "        layers.Conv2D(32, kernel_size=(3, 3), activation=\"relu\"),\n",
        "        layers.MaxPooling2D(pool_size=(2, 2)), #pooling : 사진 크기를 줄여 과적합을 줄인다.\n",
        "        layers.Conv2D(64, kernel_size=(3, 3), activation=\"relu\"),\n",
        "        layers.MaxPooling2D(pool_size=(2, 2)), #Max Pooling, Left-top Pooling, Average Pooling 등은 종류이다.\n",
        "        layers.Flatten(), #Flatten : 다층 신경망으로 이미지 파일(2차원)을 보낼때, 1차원으로 바꿔준다.\n",
        "        layers.Dropout(0.5), #과적합 줄이기, 절반은 버린다 = 0.5\n",
        "        layers.Dense(num_classes, activation=\"softmax\"),\n",
        "    ]\n",
        ")\n",
        "\n",
        "model.summary()\n",
        "\n",
        "batch_size = 128\n",
        "epochs = 15\n",
        "\n",
        "model.compile(loss=\"categorical_crossentropy\", optimizer=\"adam\", metrics=[\"accuracy\"])\n",
        "\n",
        "model.fit(x_train, y_train, batch_size=batch_size, epochs=epochs, validation_split=0.1)\n",
        "\n",
        "prob_pred = model.predict(x_test)\n",
        "prob_label = prob_pred.argmax(axis=-1)\n",
        "np.savetxt('y_pred.csv', prob_label,fmt='%d')"
      ],
      "execution_count": null,
      "outputs": [
        {
          "output_type": "stream",
          "text": [
            "x_train shape: (60000, 28, 28, 1)\n",
            "60000 train samples\n",
            "10000 test samples\n",
            "WARNING:tensorflow:Please add `keras.layers.InputLayer` instead of `keras.Input` to Sequential model. `keras.Input` is intended to be used by Functional model.\n",
            "Model: \"sequential\"\n",
            "_________________________________________________________________\n",
            "Layer (type)                 Output Shape              Param #   \n",
            "=================================================================\n",
            "conv2d (Conv2D)              (None, 26, 26, 32)        320       \n",
            "_________________________________________________________________\n",
            "max_pooling2d (MaxPooling2D) (None, 13, 13, 32)        0         \n",
            "_________________________________________________________________\n",
            "conv2d_1 (Conv2D)            (None, 11, 11, 64)        18496     \n",
            "_________________________________________________________________\n",
            "max_pooling2d_1 (MaxPooling2 (None, 5, 5, 64)          0         \n",
            "_________________________________________________________________\n",
            "flatten (Flatten)            (None, 1600)              0         \n",
            "_________________________________________________________________\n",
            "dropout (Dropout)            (None, 1600)              0         \n",
            "_________________________________________________________________\n",
            "dense (Dense)                (None, 10)                16010     \n",
            "=================================================================\n",
            "Total params: 34,826\n",
            "Trainable params: 34,826\n",
            "Non-trainable params: 0\n",
            "_________________________________________________________________\n",
            "Epoch 1/15\n",
            "422/422 [==============================] - 40s 94ms/step - loss: 0.3754 - accuracy: 0.8859 - val_loss: 0.0782 - val_accuracy: 0.9785\n",
            "Epoch 2/15\n",
            "422/422 [==============================] - 39s 93ms/step - loss: 0.1092 - accuracy: 0.9666 - val_loss: 0.0521 - val_accuracy: 0.9855\n",
            "Epoch 3/15\n",
            "422/422 [==============================] - 39s 92ms/step - loss: 0.0821 - accuracy: 0.9740 - val_loss: 0.0434 - val_accuracy: 0.9898\n",
            "Epoch 4/15\n",
            "422/422 [==============================] - 39s 91ms/step - loss: 0.0689 - accuracy: 0.9782 - val_loss: 0.0369 - val_accuracy: 0.9903\n",
            "Epoch 5/15\n",
            "422/422 [==============================] - 38s 91ms/step - loss: 0.0612 - accuracy: 0.9803 - val_loss: 0.0368 - val_accuracy: 0.9897\n",
            "Epoch 6/15\n",
            "422/422 [==============================] - 38s 91ms/step - loss: 0.0554 - accuracy: 0.9825 - val_loss: 0.0339 - val_accuracy: 0.9912\n",
            "Epoch 7/15\n",
            "422/422 [==============================] - 38s 91ms/step - loss: 0.0500 - accuracy: 0.9844 - val_loss: 0.0314 - val_accuracy: 0.9908\n",
            "Epoch 8/15\n",
            "422/422 [==============================] - 38s 91ms/step - loss: 0.0464 - accuracy: 0.9853 - val_loss: 0.0338 - val_accuracy: 0.9910\n",
            "Epoch 9/15\n",
            "422/422 [==============================] - 38s 91ms/step - loss: 0.0449 - accuracy: 0.9856 - val_loss: 0.0345 - val_accuracy: 0.9905\n",
            "Epoch 10/15\n",
            "422/422 [==============================] - 38s 91ms/step - loss: 0.0421 - accuracy: 0.9870 - val_loss: 0.0332 - val_accuracy: 0.9913\n",
            "Epoch 11/15\n",
            "422/422 [==============================] - 38s 91ms/step - loss: 0.0399 - accuracy: 0.9874 - val_loss: 0.0307 - val_accuracy: 0.9908\n",
            "Epoch 12/15\n",
            "422/422 [==============================] - 38s 91ms/step - loss: 0.0374 - accuracy: 0.9882 - val_loss: 0.0314 - val_accuracy: 0.9898\n",
            "Epoch 13/15\n",
            "422/422 [==============================] - 38s 91ms/step - loss: 0.0334 - accuracy: 0.9891 - val_loss: 0.0303 - val_accuracy: 0.9923\n",
            "Epoch 14/15\n",
            "422/422 [==============================] - 38s 91ms/step - loss: 0.0333 - accuracy: 0.9890 - val_loss: 0.0266 - val_accuracy: 0.9935\n",
            "Epoch 15/15\n",
            "422/422 [==============================] - 39s 91ms/step - loss: 0.0336 - accuracy: 0.9890 - val_loss: 0.0289 - val_accuracy: 0.9920\n"
          ],
          "name": "stdout"
        }
      ]
    }
  ]
}