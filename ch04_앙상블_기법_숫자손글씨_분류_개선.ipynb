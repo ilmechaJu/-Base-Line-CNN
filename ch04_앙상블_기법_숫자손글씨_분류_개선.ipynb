{
  "nbformat": 4,
  "nbformat_minor": 0,
  "metadata": {
    "colab": {
      "name": "ch04.앙상블 기법_숫자손글씨 분류 개선.ipynb",
      "provenance": [],
      "collapsed_sections": [],
      "authorship_tag": "ABX9TyOVPx1K5DxqiHo3z8HzEB91",
      "include_colab_link": true
    },
    "kernelspec": {
      "name": "python3",
      "display_name": "Python 3"
    },
    "language_info": {
      "name": "python"
    },
    "accelerator": "GPU"
  },
  "cells": [
    {
      "cell_type": "markdown",
      "metadata": {
        "id": "view-in-github",
        "colab_type": "text"
      },
      "source": [
        "<a href=\"https://colab.research.google.com/github/ilmechaJu/-Base-Line-CNN/blob/main/ch04_%EC%95%99%EC%83%81%EB%B8%94_%EA%B8%B0%EB%B2%95_%EC%88%AB%EC%9E%90%EC%86%90%EA%B8%80%EC%94%A8_%EB%B6%84%EB%A5%98_%EA%B0%9C%EC%84%A0.ipynb\" target=\"_parent\"><img src=\"https://colab.research.google.com/assets/colab-badge.svg\" alt=\"Open In Colab\"/></a>"
      ]
    },
    {
      "cell_type": "code",
      "metadata": {
        "colab": {
          "base_uri": "https://localhost:8080/"
        },
        "id": "OFditGUoMhzh",
        "outputId": "c9a429a5-7c54-405d-ece4-3767d91f22ce"
      },
      "source": [
        "from tensorflow.python.client import device_lib\n",
        "device_lib.list_local_devices()"
      ],
      "execution_count": null,
      "outputs": [
        {
          "output_type": "execute_result",
          "data": {
            "text/plain": [
              "[name: \"/device:CPU:0\"\n",
              " device_type: \"CPU\"\n",
              " memory_limit: 268435456\n",
              " locality {\n",
              " }\n",
              " incarnation: 18132736622439474593, name: \"/device:GPU:0\"\n",
              " device_type: \"GPU\"\n",
              " memory_limit: 7250706432\n",
              " locality {\n",
              "   bus_id: 1\n",
              "   links {\n",
              "   }\n",
              " }\n",
              " incarnation: 16001322133683374910\n",
              " physical_device_desc: \"device: 0, name: Tesla P4, pci bus id: 0000:00:04.0, compute capability: 6.1\"]"
            ]
          },
          "metadata": {
            "tags": []
          },
          "execution_count": 1
        }
      ]
    },
    {
      "cell_type": "code",
      "metadata": {
        "colab": {
          "base_uri": "https://localhost:8080/"
        },
        "id": "rQ3HfxFFMKpx",
        "outputId": "01777852-f1df-46da-a863-63c828db0fe9"
      },
      "source": [
        "import numpy as np\n",
        "\n",
        "from tensorflow.keras.wrappers.scikit_learn import KerasClassifier\n",
        "from sklearn.ensemble import VotingClassifier\n",
        "from sklearn.metrics import accuracy_score\n",
        "from keras.datasets import mnist\n",
        "import matplotlib.pyplot as plt\n",
        "from keras.utils.np_utils import to_categorical\n",
        "from sklearn.model_selection import train_test_split\n",
        "from keras.models import Sequential\n",
        "from tensorflow.keras.layers import *\n",
        "from tensorflow.keras import optimizers\n",
        "\n",
        "(X_train, y_train), (X_test, y_test) = mnist.load_data()\n",
        "\n",
        "# reshaping X data: (n, 28, 28) => (n, 784)\n",
        "X_train = X_train.reshape((X_train.shape[0], -1))\n",
        "X_test = X_test.reshape((X_test.shape[0], -1))\n",
        "\n",
        "# 학습 과정을 단축시키기 위해 학습 데이터의 1/3만 활용한다\n",
        "X_train, _ , y_train, _ = train_test_split(X_train, y_train, test_size = 0.67, random_state = 7)\n",
        "\n",
        "# 타겟 변수를 one-hot encoding 한다\n",
        "y_train = to_categorical(y_train)\n",
        "y_test = to_categorical(y_test)\n",
        "\n",
        "print(X_train.shape, X_test.shape, y_train.shape, y_test.shape)\n",
        "\n",
        "y_train = np.argmax(y_train, axis = 1)\n",
        "y_test = np.argmax(y_test, axis = 1)\n",
        "\n",
        "\n",
        "def mlp_model():\n",
        "    model = Sequential()\n",
        "    model.add(Dense(50, input_shape = (784, )))\n",
        "    model.add(Activation('sigmoid'))    \n",
        "    model.add(Dense(50))\n",
        "    model.add(Activation('sigmoid'))    \n",
        "    model.add(Dense(50))\n",
        "    model.add(Activation('sigmoid'))    \n",
        "    model.add(Dense(50))\n",
        "    model.add(Activation('sigmoid'))    \n",
        "    model.add(Dense(10))\n",
        "    model.add(Activation('softmax'))\n",
        "    \n",
        "    sgd = optimizers.SGD(learning_rate = 0.001)\n",
        "    model.compile(optimizer = sgd, loss = 'categorical_crossentropy', metrics = ['accuracy'])\n",
        "    \n",
        "    return model\n",
        "\n",
        "\n",
        "\n",
        "model1 = KerasClassifier(build_fn = mlp_model, epochs = 10, verbose = 0)\n",
        "model2 = KerasClassifier(build_fn = mlp_model, epochs = 10, verbose = 0)\n",
        "model3 = KerasClassifier(build_fn = mlp_model, epochs = 10, verbose = 0)\n",
        "model1._estimator_type = \"classifier\"\n",
        "model2._estimator_type = \"classifier\"\n",
        "model3._estimator_type = \"classifier\"\n",
        "\n",
        "\n",
        "ensemble_clf = VotingClassifier(estimators = [('model1', model1), ('model2', model2), ('model3', model3)]\n",
        "                                , voting = 'soft')\n",
        "\n",
        "\n",
        "ensemble_clf.fit(X_train, y_train)\n",
        "\n",
        "\n",
        "y_pred = ensemble_clf.predict(X_test)\n",
        "\n",
        "print('Test accuracy:', accuracy_score(y_pred, y_test))\n",
        "\n",
        "#  푼 답 저장하기\n",
        "prob_pred = ensemble_clf.predict(X_test)\n",
        "np.savetxt('y_pred.csv', prob_pred, fmt='%d')"
      ],
      "execution_count": null,
      "outputs": [
        {
          "output_type": "stream",
          "text": [
            "(19800, 784) (10000, 784) (19800, 10) (10000, 10)\n",
            "Test accuracy: 0.1135\n"
          ],
          "name": "stdout"
        }
      ]
    }
  ]
}